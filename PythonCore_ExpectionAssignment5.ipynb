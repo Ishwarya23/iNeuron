{
 "cells": [
  {
   "cell_type": "markdown",
   "metadata": {},
   "source": [
    "Question 1: Create a function to compute 5/0 and use try,catch,exception"
   ]
  },
  {
   "cell_type": "code",
   "execution_count": 10,
   "metadata": {},
   "outputs": [
    {
     "name": "stdout",
     "output_type": "stream",
     "text": [
      "Enter the number13\n",
      "Enter the number24\n",
      "0.75\n"
     ]
    }
   ],
   "source": [
    "n1 = int(input(\"Enter the number1\"))\n",
    "n2 = int(input(\"Enter the number2\"))\n",
    "try:\n",
    "    a = n1/n2\n",
    "    print (a)\n",
    "except (ValueError,ZeroDivisionError) as e:\n",
    "    print (\"Error: \",e)"
   ]
  },
  {
   "cell_type": "markdown",
   "metadata": {},
   "source": [
    "Question 2: generate all the sentences\n",
    "    subjects = ['America','India']\n",
    "    verbs = ['play','watch']\n",
    "    object = ['baseball','cricket']\n",
    "Output:\n",
    "    America play baseball\n",
    "    America play cricket\n",
    "    America watch baseball\n",
    "    America watch cricket\n",
    "    India play baseball\n",
    "    India play cricket\n",
    "    India watch baseball\n",
    "    India watch cricket"
   ]
  },
  {
   "cell_type": "code",
   "execution_count": 12,
   "metadata": {},
   "outputs": [
    {
     "name": "stdout",
     "output_type": "stream",
     "text": [
      "America play baseball\n",
      "America play cricket\n",
      "America watch baseball\n",
      "America watch cricket\n",
      "India play baseball\n",
      "India play cricket\n",
      "India watch baseball\n",
      "India watch cricket\n"
     ]
    }
   ],
   "source": [
    "subjects = ['America','India']\n",
    "verbs = ['play','watch']\n",
    "objects = ['baseball','cricket']\n",
    "for sub in subjects:\n",
    "    for verb in verbs:\n",
    "        for obj in objects:\n",
    "            print (\"{} {} {}\".format(sub,verb,obj))\n",
    "        "
   ]
  },
  {
   "cell_type": "code",
   "execution_count": null,
   "metadata": {},
   "outputs": [],
   "source": []
  }
 ],
 "metadata": {
  "kernelspec": {
   "display_name": "Python 3",
   "language": "python",
   "name": "python3"
  },
  "language_info": {
   "codemirror_mode": {
    "name": "ipython",
    "version": 3
   },
   "file_extension": ".py",
   "mimetype": "text/x-python",
   "name": "python",
   "nbconvert_exporter": "python",
   "pygments_lexer": "ipython3",
   "version": "3.7.9"
  }
 },
 "nbformat": 4,
 "nbformat_minor": 4
}
