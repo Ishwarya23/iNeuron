{
 "cells": [
  {
   "cell_type": "markdown",
   "metadata": {},
   "source": [
    "Write a Python Program to implement your own myreduce() function which works exactly\n",
    "like Python's built-in function reduce()"
   ]
  },
  {
   "cell_type": "code",
   "execution_count": 19,
   "metadata": {},
   "outputs": [
    {
     "name": "stdout",
     "output_type": "stream",
     "text": [
      "9\n"
     ]
    }
   ],
   "source": [
    "def myreduce(func, *arguments):\n",
    "    if (len(arguments) == 0):\n",
    "        return None\n",
    "    res = arguments[0]\n",
    "    for i in range (1,len(arguments)):\n",
    "        res = func(res,arguments[i])\n",
    "    return res\n",
    "\n",
    "print (myreduce(lambda x,y: x+y,2,3,4))"
   ]
  },
  {
   "cell_type": "markdown",
   "metadata": {},
   "source": [
    "Write a Python program to implement your own myfilter() function which works exactly\n",
    "like Python's built-in function filter()"
   ]
  },
  {
   "cell_type": "code",
   "execution_count": 52,
   "metadata": {},
   "outputs": [
    {
     "name": "stdout",
     "output_type": "stream",
     "text": [
      "[2, 4, 6]\n"
     ]
    }
   ],
   "source": [
    "def divisibleBy2(value):\n",
    "        if value%2 == 0:\n",
    "            return True \n",
    "\n",
    "def myfilter(divisibleBy2,*arguments):\n",
    "    if (len(arguments) == 0):\n",
    "        return None\n",
    "    res = []\n",
    "    for i in range (0,len(arguments)):\n",
    "        if divisibleBy2(arguments[i]):\n",
    "            res.append(arguments[i])\n",
    "    return res\n",
    "\n",
    "inputList = [2,4,6,5,7]\n",
    "print (myfilter(divisibleBy2,2,4,6,5,7))"
   ]
  },
  {
   "cell_type": "markdown",
   "metadata": {},
   "source": [
    "Implement List comprehensions to produce the following lists.\n",
    "Write List comprehensions to produce the following Lists\n",
    "['A', 'C', 'A', 'D', 'G', 'I', ’L’, ‘ D’]\n",
    "['x', 'xx', 'xxx', 'xxxx', 'y', 'yy', 'yyy', 'yyyy', 'z', 'zz', 'zzz', 'zzzz']\n",
    "['x', 'y', 'z', 'xx', 'yy', 'zz', 'xxx', 'yyy', 'zzz', 'xxxx', 'yyyy', 'zzzz']\n",
    "[[2], [3], [4], [3], [4], [5], [4], [5], [6]] [[2, 3, 4, 5], [3, 4, 5, 6],\n",
    "[4, 5, 6, 7], [5, 6, 7, 8]]\n",
    "[(1, 1), (2, 1), (3, 1), (1, 2), (2, 2), (3, 2), (1, 3), (2, 3), (3, 3)]"
   ]
  },
  {
   "cell_type": "code",
   "execution_count": 56,
   "metadata": {},
   "outputs": [
    {
     "data": {
      "text/plain": [
       "\"['A', 'C', 'A', 'D', 'G', 'I', 'L', 'D']\""
      ]
     },
     "execution_count": 56,
     "metadata": {},
     "output_type": "execute_result"
    }
   ],
   "source": [
    "data = \"ACADGILD\"\n",
    "alphalist = [i for i in data]\n",
    "str(alphalist)"
   ]
  },
  {
   "cell_type": "code",
   "execution_count": 58,
   "metadata": {},
   "outputs": [
    {
     "data": {
      "text/plain": [
       "['x', 'xx', 'xxx', 'xxxx', 'y', 'yy', 'yyy', 'yyyy', 'z', 'zz', 'zzz', 'zzzz']"
      ]
     },
     "execution_count": 58,
     "metadata": {},
     "output_type": "execute_result"
    }
   ],
   "source": [
    "data1 = ['x','y','z']\n",
    "list1 = [i*j for i in data1 for j in range(1,5)]\n",
    "list1"
   ]
  },
  {
   "cell_type": "code",
   "execution_count": 2,
   "metadata": {},
   "outputs": [
    {
     "data": {
      "text/plain": [
       "['x', 'y', 'z', 'xx', 'yy', 'zz', 'xxx', 'yyy', 'zzz', 'xxxx', 'yyyy', 'zzzz']"
      ]
     },
     "execution_count": 2,
     "metadata": {},
     "output_type": "execute_result"
    }
   ],
   "source": [
    "data2 = ['x','y','z']\n",
    "list2 = [i*j for i in range(1,5) for j in data2 ]\n",
    "list2"
   ]
  },
  {
   "cell_type": "code",
   "execution_count": 4,
   "metadata": {},
   "outputs": [
    {
     "data": {
      "text/plain": [
       "[[2], [3], [4], [3], [4], [5], [4], [5], [6]]"
      ]
     },
     "execution_count": 4,
     "metadata": {},
     "output_type": "execute_result"
    }
   ],
   "source": [
    "data3 = [2,3,4]\n",
    "list3 = [ [item+num] for item in input_list for num in range(0,3)]\n",
    "list3"
   ]
  },
  {
   "cell_type": "markdown",
   "metadata": {},
   "source": [
    "function which takes dict as inputs and it will return list of all the values if value is string"
   ]
  },
  {
   "cell_type": "code",
   "execution_count": 37,
   "metadata": {},
   "outputs": [
    {
     "name": "stdout",
     "output_type": "stream",
     "text": [
      "['Ishu', 'CSE']\n"
     ]
    }
   ],
   "source": [
    "dictData = {'Name':'Ishu','Age':25,'Dept':'CSE'}\n",
    "\n",
    "def displayString (dictData):\n",
    "    listdata = []\n",
    "    for i in dictData.values():\n",
    "        if type(i) == str:\n",
    "            listdata.append(i)\n",
    "    return listdata\n",
    "\n",
    "print (displayString(dictData)) "
   ]
  },
  {
   "cell_type": "markdown",
   "metadata": {},
   "source": [
    "create a function which will take all the information from user like Name, Mailid, phone number as input and return dict"
   ]
  },
  {
   "cell_type": "code",
   "execution_count": 45,
   "metadata": {},
   "outputs": [
    {
     "name": "stdout",
     "output_type": "stream",
     "text": [
      "Enter Nameii\n",
      "Enter mailidss\n",
      "Enter phoness\n",
      "{'Name': 'ii', 'MailId': 'ss', 'phoneNumber': 'ss'}\n"
     ]
    }
   ],
   "source": [
    "def createdict(name,mail,phno):   \n",
    "    data = {}\n",
    "    data[\"Name\"] = name\n",
    "    data[\"MailId\"] = mail\n",
    "    data[\"phoneNumber\"] = phno \n",
    "    return data\n",
    "\n",
    "name = input (\"Enter Name\")\n",
    "mail = input (\"Enter mailid\")\n",
    "phno = input (\"Enter phone\")\n",
    "print (createdict(name,mail,phno))"
   ]
  },
  {
   "cell_type": "code",
   "execution_count": null,
   "metadata": {},
   "outputs": [],
   "source": []
  }
 ],
 "metadata": {
  "kernelspec": {
   "display_name": "Python 3",
   "language": "python",
   "name": "python3"
  },
  "language_info": {
   "codemirror_mode": {
    "name": "ipython",
    "version": 3
   },
   "file_extension": ".py",
   "mimetype": "text/x-python",
   "name": "python",
   "nbconvert_exporter": "python",
   "pygments_lexer": "ipython3",
   "version": "3.7.9"
  }
 },
 "nbformat": 4,
 "nbformat_minor": 4
}
