{
 "cells": [
  {
   "cell_type": "markdown",
   "metadata": {},
   "source": [
    "Write a Python Program(with class concepts) to find the area of the triangle using the below\n",
    "formula.\n",
    "area = (s*(s-a)*(s-b)*(s-c)) ** 0.5\n",
    "Function to take the length of the sides of triangle from user should be defined in the parent\n",
    "class and function to calculate the area should be defined in subclass."
   ]
  },
  {
   "cell_type": "code",
   "execution_count": 59,
   "metadata": {},
   "outputs": [
    {
     "name": "stdout",
     "output_type": "stream",
     "text": [
      "Area of Triangle:\n"
     ]
    },
    {
     "data": {
      "text/plain": [
       "2.905"
      ]
     },
     "execution_count": 59,
     "metadata": {},
     "output_type": "execute_result"
    }
   ],
   "source": [
    "class Triangle:\n",
    "    def __init__(self,a,b,c):\n",
    "        self.a = a\n",
    "        self.b = b\n",
    "        self.c = c\n",
    "    \n",
    "class AreaOfTriangle(Triangle):\n",
    "    def __init__(self,*args):\n",
    "        Triangle.__init__(self,*args)\n",
    "    \n",
    "    def calculateArea(self):\n",
    "        #semi_Parameter = (a+b+c)/3\n",
    "        try:\n",
    "            a = int(self.a)\n",
    "            b = int(self.b)\n",
    "            c = int(self.c)\n",
    "            s = (a + b + c)/2\n",
    "            res = (s*(s-a)*(s-b)*(s-c)) ** 0.5\n",
    "            return round(res,3)\n",
    "        except Exception as error:\n",
    "            errmsg = \"{} {}\".format('Error :', error)\n",
    "            return errmsg\n",
    "        \n",
    "area = AreaOfTriangle(2,3,4)\n",
    "print (\"Area of Triangle:\")\n",
    "area.calculateArea()"
   ]
  },
  {
   "cell_type": "markdown",
   "metadata": {},
   "source": [
    "Write a function filter_long_words() that takes a list of words and an integer n and returns\n",
    "the list of words that are longer than n."
   ]
  },
  {
   "cell_type": "code",
   "execution_count": 10,
   "metadata": {},
   "outputs": [
    {
     "name": "stdout",
     "output_type": "stream",
     "text": [
      "['Ishwarya', 'Sowmiya', 'Sonu']\n"
     ]
    }
   ],
   "source": [
    "def filter_long_words(words,n):\n",
    "    longword = []\n",
    "    for word in words:\n",
    "        if (len(word) > n):\n",
    "            longword.append(word)\n",
    "    return longword\n",
    "\n",
    "words = ['Ishwarya','Sowmiya','Sonu','abc','k']\n",
    "n = 3\n",
    "print (filter_long_words(words,n))"
   ]
  },
  {
   "cell_type": "markdown",
   "metadata": {},
   "source": [
    "Write a Python program using function concept that maps list of words into a list of integers\n",
    "representing the lengths of the corresponding words.\n",
    "Hint: If a list [ ab,cde,erty] is passed on to the python function output should come as [2,3,4]\n",
    "Here 2,3 and 4 are the lengths of the words in the list."
   ]
  },
  {
   "cell_type": "code",
   "execution_count": 11,
   "metadata": {},
   "outputs": [
    {
     "name": "stdout",
     "output_type": "stream",
     "text": [
      "[8, 7, 4, 3, 1]\n"
     ]
    }
   ],
   "source": [
    "def calLength(words):\n",
    "    wordLength = []\n",
    "    for word in words:\n",
    "        wordLength.append(len(word))\n",
    "    return wordLength\n",
    "\n",
    "words = ['Ishwarya','Sowmiya','Sonu','abc','k']\n",
    "print(calLength(words))"
   ]
  },
  {
   "cell_type": "markdown",
   "metadata": {},
   "source": [
    "Write a Python function which takes a character (i.e. a string of length 1) and returns True if\n",
    "it is a vowel, False otherwise."
   ]
  },
  {
   "cell_type": "code",
   "execution_count": 16,
   "metadata": {},
   "outputs": [
    {
     "name": "stdout",
     "output_type": "stream",
     "text": [
      "Enter characterA\n",
      "True\n"
     ]
    }
   ],
   "source": [
    "def isVowel(character):\n",
    "    vowels = ['a','e','i','o','u']\n",
    "    if character.lower() in vowels:\n",
    "        return True\n",
    "    else:\n",
    "        return False\n",
    "\n",
    "\n",
    "c = input(\"Enter character\")\n",
    "print(isVowel(c))"
   ]
  },
  {
   "cell_type": "code",
   "execution_count": null,
   "metadata": {},
   "outputs": [],
   "source": []
  }
 ],
 "metadata": {
  "kernelspec": {
   "display_name": "Python 3",
   "language": "python",
   "name": "python3"
  },
  "language_info": {
   "codemirror_mode": {
    "name": "ipython",
    "version": 3
   },
   "file_extension": ".py",
   "mimetype": "text/x-python",
   "name": "python",
   "nbconvert_exporter": "python",
   "pygments_lexer": "ipython3",
   "version": "3.7.9"
  }
 },
 "nbformat": 4,
 "nbformat_minor": 4
}
